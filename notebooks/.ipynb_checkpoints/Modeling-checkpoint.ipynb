{
 "cells": [
  {
   "cell_type": "code",
   "execution_count": 1,
   "metadata": {},
   "outputs": [],
   "source": [
    "import pandas as pd\n",
    "import numpy as np\n",
    "from sklearn.model_selection import GridSearchCV\n",
    "from sklearn.ensemble import RandomForestRegressor\n",
    "from sklearn.linear_model import LinearRegression\n",
    "from sklearn.linear_model import Lasso\n",
    "from sklearn.preprocessing import StandardScaler\n",
    "from sklearn.model_selection import train_test_split\n",
    "from sklearn.model_selection import cross_val_score\n",
    "import matplotlib.pyplot as plt\n",
    "from sklearn.preprocessing import RobustScaler\n",
    "from sklearn.preprocessing import MinMaxScaler"
   ]
  },
  {
   "cell_type": "code",
   "execution_count": 5,
   "metadata": {},
   "outputs": [],
   "source": [
    "#importing datasets\n",
    "linear_data = pd.read_csv(\"../data/modeling/linear_regression.csv\",index_col = 0)\n",
    "tree_data = pd.read_csv('../data/modeling/decision_tree.csv', index_col = 0)\n",
    "lasso_data = pd.read_csv('../data/modeling/lasso_regression.csv', index_col = 0)\n",
    "targets = pd.read_csv('../data/modeling/targets.csv', index_col = 0)\n",
    "colinear = pd.read_csv('../data/modeling/co_linear.csv', index_col = 0)"
   ]
  },
  {
   "cell_type": "code",
   "execution_count": 6,
   "metadata": {},
   "outputs": [
    {
     "data": {
      "text/html": [
       "<div>\n",
       "<style scoped>\n",
       "    .dataframe tbody tr th:only-of-type {\n",
       "        vertical-align: middle;\n",
       "    }\n",
       "\n",
       "    .dataframe tbody tr th {\n",
       "        vertical-align: top;\n",
       "    }\n",
       "\n",
       "    .dataframe thead th {\n",
       "        text-align: right;\n",
       "    }\n",
       "</style>\n",
       "<table border=\"1\" class=\"dataframe\">\n",
       "  <thead>\n",
       "    <tr style=\"text-align: right;\">\n",
       "      <th></th>\n",
       "      <th>Median Sales Price</th>\n",
       "      <th>PercentShortTermRentals</th>\n",
       "      <th>host_response_rate</th>\n",
       "      <th>host_acceptance_rate</th>\n",
       "      <th>host_is_superhost</th>\n",
       "      <th>host_has_profile_pic</th>\n",
       "      <th>host_identity_verified</th>\n",
       "      <th>accommodates</th>\n",
       "      <th>bathrooms_text</th>\n",
       "      <th>bedrooms</th>\n",
       "      <th>...</th>\n",
       "      <th>nbhd__St. Roch</th>\n",
       "      <th>nbhd__St. Thomas Dev</th>\n",
       "      <th>nbhd__Tall Timbers - Brechtel</th>\n",
       "      <th>nbhd__Touro</th>\n",
       "      <th>nbhd__Treme - Lafitte</th>\n",
       "      <th>nbhd__Tulane - Gravier</th>\n",
       "      <th>nbhd__Uptown</th>\n",
       "      <th>nbhd__West End</th>\n",
       "      <th>nbhd__West Riverside</th>\n",
       "      <th>nbhd__Whitney</th>\n",
       "    </tr>\n",
       "  </thead>\n",
       "  <tbody>\n",
       "    <tr>\n",
       "      <th>0</th>\n",
       "      <td>134250.0</td>\n",
       "      <td>4.626335</td>\n",
       "      <td>100.0</td>\n",
       "      <td>100.0</td>\n",
       "      <td>1</td>\n",
       "      <td>1</td>\n",
       "      <td>1</td>\n",
       "      <td>8</td>\n",
       "      <td>2.000000</td>\n",
       "      <td>4.0</td>\n",
       "      <td>...</td>\n",
       "      <td>0</td>\n",
       "      <td>0</td>\n",
       "      <td>0</td>\n",
       "      <td>0</td>\n",
       "      <td>1</td>\n",
       "      <td>0</td>\n",
       "      <td>0</td>\n",
       "      <td>0</td>\n",
       "      <td>0</td>\n",
       "      <td>0</td>\n",
       "    </tr>\n",
       "    <tr>\n",
       "      <th>1</th>\n",
       "      <td>134250.0</td>\n",
       "      <td>4.626335</td>\n",
       "      <td>96.0</td>\n",
       "      <td>98.0</td>\n",
       "      <td>0</td>\n",
       "      <td>1</td>\n",
       "      <td>1</td>\n",
       "      <td>6</td>\n",
       "      <td>2.500000</td>\n",
       "      <td>3.0</td>\n",
       "      <td>...</td>\n",
       "      <td>0</td>\n",
       "      <td>0</td>\n",
       "      <td>0</td>\n",
       "      <td>0</td>\n",
       "      <td>1</td>\n",
       "      <td>0</td>\n",
       "      <td>0</td>\n",
       "      <td>0</td>\n",
       "      <td>0</td>\n",
       "      <td>0</td>\n",
       "    </tr>\n",
       "    <tr>\n",
       "      <th>2</th>\n",
       "      <td>134250.0</td>\n",
       "      <td>4.626335</td>\n",
       "      <td>100.0</td>\n",
       "      <td>84.0</td>\n",
       "      <td>1</td>\n",
       "      <td>1</td>\n",
       "      <td>1</td>\n",
       "      <td>4</td>\n",
       "      <td>1.000000</td>\n",
       "      <td>2.0</td>\n",
       "      <td>...</td>\n",
       "      <td>0</td>\n",
       "      <td>0</td>\n",
       "      <td>0</td>\n",
       "      <td>0</td>\n",
       "      <td>1</td>\n",
       "      <td>0</td>\n",
       "      <td>0</td>\n",
       "      <td>0</td>\n",
       "      <td>0</td>\n",
       "      <td>0</td>\n",
       "    </tr>\n",
       "    <tr>\n",
       "      <th>3</th>\n",
       "      <td>134250.0</td>\n",
       "      <td>4.626335</td>\n",
       "      <td>95.0</td>\n",
       "      <td>99.0</td>\n",
       "      <td>0</td>\n",
       "      <td>1</td>\n",
       "      <td>1</td>\n",
       "      <td>6</td>\n",
       "      <td>2.500000</td>\n",
       "      <td>3.0</td>\n",
       "      <td>...</td>\n",
       "      <td>0</td>\n",
       "      <td>0</td>\n",
       "      <td>0</td>\n",
       "      <td>0</td>\n",
       "      <td>1</td>\n",
       "      <td>0</td>\n",
       "      <td>0</td>\n",
       "      <td>0</td>\n",
       "      <td>0</td>\n",
       "      <td>0</td>\n",
       "    </tr>\n",
       "    <tr>\n",
       "      <th>4</th>\n",
       "      <td>134250.0</td>\n",
       "      <td>4.626335</td>\n",
       "      <td>100.0</td>\n",
       "      <td>100.0</td>\n",
       "      <td>0</td>\n",
       "      <td>1</td>\n",
       "      <td>1</td>\n",
       "      <td>8</td>\n",
       "      <td>2.000000</td>\n",
       "      <td>3.0</td>\n",
       "      <td>...</td>\n",
       "      <td>0</td>\n",
       "      <td>0</td>\n",
       "      <td>0</td>\n",
       "      <td>0</td>\n",
       "      <td>1</td>\n",
       "      <td>0</td>\n",
       "      <td>0</td>\n",
       "      <td>0</td>\n",
       "      <td>0</td>\n",
       "      <td>0</td>\n",
       "    </tr>\n",
       "    <tr>\n",
       "      <th>...</th>\n",
       "      <td>...</td>\n",
       "      <td>...</td>\n",
       "      <td>...</td>\n",
       "      <td>...</td>\n",
       "      <td>...</td>\n",
       "      <td>...</td>\n",
       "      <td>...</td>\n",
       "      <td>...</td>\n",
       "      <td>...</td>\n",
       "      <td>...</td>\n",
       "      <td>...</td>\n",
       "      <td>...</td>\n",
       "      <td>...</td>\n",
       "      <td>...</td>\n",
       "      <td>...</td>\n",
       "      <td>...</td>\n",
       "      <td>...</td>\n",
       "      <td>...</td>\n",
       "      <td>...</td>\n",
       "      <td>...</td>\n",
       "      <td>...</td>\n",
       "    </tr>\n",
       "    <tr>\n",
       "      <th>2231</th>\n",
       "      <td>314500.0</td>\n",
       "      <td>2.684564</td>\n",
       "      <td>100.0</td>\n",
       "      <td>94.0</td>\n",
       "      <td>0</td>\n",
       "      <td>1</td>\n",
       "      <td>1</td>\n",
       "      <td>6</td>\n",
       "      <td>2.500000</td>\n",
       "      <td>3.0</td>\n",
       "      <td>...</td>\n",
       "      <td>0</td>\n",
       "      <td>0</td>\n",
       "      <td>0</td>\n",
       "      <td>0</td>\n",
       "      <td>0</td>\n",
       "      <td>0</td>\n",
       "      <td>0</td>\n",
       "      <td>0</td>\n",
       "      <td>0</td>\n",
       "      <td>0</td>\n",
       "    </tr>\n",
       "    <tr>\n",
       "      <th>2232</th>\n",
       "      <td>314500.0</td>\n",
       "      <td>2.684564</td>\n",
       "      <td>100.0</td>\n",
       "      <td>94.0</td>\n",
       "      <td>0</td>\n",
       "      <td>1</td>\n",
       "      <td>1</td>\n",
       "      <td>6</td>\n",
       "      <td>2.500000</td>\n",
       "      <td>3.0</td>\n",
       "      <td>...</td>\n",
       "      <td>0</td>\n",
       "      <td>0</td>\n",
       "      <td>0</td>\n",
       "      <td>0</td>\n",
       "      <td>0</td>\n",
       "      <td>0</td>\n",
       "      <td>0</td>\n",
       "      <td>0</td>\n",
       "      <td>0</td>\n",
       "      <td>0</td>\n",
       "    </tr>\n",
       "    <tr>\n",
       "      <th>2233</th>\n",
       "      <td>314500.0</td>\n",
       "      <td>2.684564</td>\n",
       "      <td>100.0</td>\n",
       "      <td>94.0</td>\n",
       "      <td>0</td>\n",
       "      <td>1</td>\n",
       "      <td>1</td>\n",
       "      <td>4</td>\n",
       "      <td>2.500000</td>\n",
       "      <td>2.0</td>\n",
       "      <td>...</td>\n",
       "      <td>0</td>\n",
       "      <td>0</td>\n",
       "      <td>0</td>\n",
       "      <td>0</td>\n",
       "      <td>0</td>\n",
       "      <td>0</td>\n",
       "      <td>0</td>\n",
       "      <td>0</td>\n",
       "      <td>0</td>\n",
       "      <td>0</td>\n",
       "    </tr>\n",
       "    <tr>\n",
       "      <th>2234</th>\n",
       "      <td>314500.0</td>\n",
       "      <td>2.684564</td>\n",
       "      <td>98.0</td>\n",
       "      <td>100.0</td>\n",
       "      <td>0</td>\n",
       "      <td>1</td>\n",
       "      <td>1</td>\n",
       "      <td>8</td>\n",
       "      <td>2.000000</td>\n",
       "      <td>2.0</td>\n",
       "      <td>...</td>\n",
       "      <td>0</td>\n",
       "      <td>0</td>\n",
       "      <td>0</td>\n",
       "      <td>0</td>\n",
       "      <td>0</td>\n",
       "      <td>0</td>\n",
       "      <td>0</td>\n",
       "      <td>0</td>\n",
       "      <td>0</td>\n",
       "      <td>0</td>\n",
       "    </tr>\n",
       "    <tr>\n",
       "      <th>2235</th>\n",
       "      <td>97500.0</td>\n",
       "      <td>0.000000</td>\n",
       "      <td>100.0</td>\n",
       "      <td>83.0</td>\n",
       "      <td>1</td>\n",
       "      <td>1</td>\n",
       "      <td>1</td>\n",
       "      <td>4</td>\n",
       "      <td>1.269209</td>\n",
       "      <td>1.0</td>\n",
       "      <td>...</td>\n",
       "      <td>0</td>\n",
       "      <td>0</td>\n",
       "      <td>0</td>\n",
       "      <td>0</td>\n",
       "      <td>0</td>\n",
       "      <td>0</td>\n",
       "      <td>0</td>\n",
       "      <td>0</td>\n",
       "      <td>0</td>\n",
       "      <td>0</td>\n",
       "    </tr>\n",
       "  </tbody>\n",
       "</table>\n",
       "<p>2236 rows × 189 columns</p>\n",
       "</div>"
      ],
      "text/plain": [
       "      Median Sales Price  PercentShortTermRentals  host_response_rate  \\\n",
       "0               134250.0                 4.626335               100.0   \n",
       "1               134250.0                 4.626335                96.0   \n",
       "2               134250.0                 4.626335               100.0   \n",
       "3               134250.0                 4.626335                95.0   \n",
       "4               134250.0                 4.626335               100.0   \n",
       "...                  ...                      ...                 ...   \n",
       "2231            314500.0                 2.684564               100.0   \n",
       "2232            314500.0                 2.684564               100.0   \n",
       "2233            314500.0                 2.684564               100.0   \n",
       "2234            314500.0                 2.684564                98.0   \n",
       "2235             97500.0                 0.000000               100.0   \n",
       "\n",
       "      host_acceptance_rate  host_is_superhost  host_has_profile_pic  \\\n",
       "0                    100.0                  1                     1   \n",
       "1                     98.0                  0                     1   \n",
       "2                     84.0                  1                     1   \n",
       "3                     99.0                  0                     1   \n",
       "4                    100.0                  0                     1   \n",
       "...                    ...                ...                   ...   \n",
       "2231                  94.0                  0                     1   \n",
       "2232                  94.0                  0                     1   \n",
       "2233                  94.0                  0                     1   \n",
       "2234                 100.0                  0                     1   \n",
       "2235                  83.0                  1                     1   \n",
       "\n",
       "      host_identity_verified  accommodates  bathrooms_text  bedrooms  ...  \\\n",
       "0                          1             8        2.000000       4.0  ...   \n",
       "1                          1             6        2.500000       3.0  ...   \n",
       "2                          1             4        1.000000       2.0  ...   \n",
       "3                          1             6        2.500000       3.0  ...   \n",
       "4                          1             8        2.000000       3.0  ...   \n",
       "...                      ...           ...             ...       ...  ...   \n",
       "2231                       1             6        2.500000       3.0  ...   \n",
       "2232                       1             6        2.500000       3.0  ...   \n",
       "2233                       1             4        2.500000       2.0  ...   \n",
       "2234                       1             8        2.000000       2.0  ...   \n",
       "2235                       1             4        1.269209       1.0  ...   \n",
       "\n",
       "      nbhd__St. Roch  nbhd__St. Thomas Dev  nbhd__Tall Timbers - Brechtel  \\\n",
       "0                  0                     0                              0   \n",
       "1                  0                     0                              0   \n",
       "2                  0                     0                              0   \n",
       "3                  0                     0                              0   \n",
       "4                  0                     0                              0   \n",
       "...              ...                   ...                            ...   \n",
       "2231               0                     0                              0   \n",
       "2232               0                     0                              0   \n",
       "2233               0                     0                              0   \n",
       "2234               0                     0                              0   \n",
       "2235               0                     0                              0   \n",
       "\n",
       "      nbhd__Touro  nbhd__Treme - Lafitte  nbhd__Tulane - Gravier  \\\n",
       "0               0                      1                       0   \n",
       "1               0                      1                       0   \n",
       "2               0                      1                       0   \n",
       "3               0                      1                       0   \n",
       "4               0                      1                       0   \n",
       "...           ...                    ...                     ...   \n",
       "2231            0                      0                       0   \n",
       "2232            0                      0                       0   \n",
       "2233            0                      0                       0   \n",
       "2234            0                      0                       0   \n",
       "2235            0                      0                       0   \n",
       "\n",
       "      nbhd__Uptown  nbhd__West End  nbhd__West Riverside  nbhd__Whitney  \n",
       "0                0               0                     0              0  \n",
       "1                0               0                     0              0  \n",
       "2                0               0                     0              0  \n",
       "3                0               0                     0              0  \n",
       "4                0               0                     0              0  \n",
       "...            ...             ...                   ...            ...  \n",
       "2231             0               0                     0              0  \n",
       "2232             0               0                     0              0  \n",
       "2233             0               0                     0              0  \n",
       "2234             0               0                     0              0  \n",
       "2235             0               0                     0              0  \n",
       "\n",
       "[2236 rows x 189 columns]"
      ]
     },
     "execution_count": 6,
     "metadata": {},
     "output_type": "execute_result"
    }
   ],
   "source": [
    "tree_data.drop(columns = 'index', inplace = True)\n",
    "lasso_data.drop(columns = targets.columns, inplace = True)\n",
    "pd.merge(lasso_data, colinear)"
   ]
  },
  {
   "cell_type": "markdown",
   "metadata": {},
   "source": [
    "# Creating a Hold Out Set\n",
    "\n",
    "Splitting the data first ensures the same training and test sets are used for all the models. "
   ]
  },
  {
   "cell_type": "code",
   "execution_count": 7,
   "metadata": {},
   "outputs": [
    {
     "name": "stdout",
     "output_type": "stream",
     "text": [
      "[ True]\n"
     ]
    }
   ],
   "source": [
    "#checks to make sure data is still indexed the same by taking a \n",
    "#column with continuous values and making sure it is the same across least manipulated and most manipulated dataset. \n",
    "print((linear_data[\"reviews_per_month\"]==tree_data[\"reviews_per_month\"]).unique())"
   ]
  },
  {
   "cell_type": "code",
   "execution_count": 8,
   "metadata": {},
   "outputs": [],
   "source": [
    "y = np.log(np.log(targets['price'])) #chooses target variable\n",
    "test_size = .3#chooses test size\n",
    "\n",
    "X_train_tree, X_test_tree, y_train, y_test = train_test_split(tree_data, y, test_size = test_size)#splits data for decision tree model\n",
    "def split(data):#takes in data a returns split data with the same train and test data with the same index as original split\n",
    "    train = data.iloc[list(X_train_tree.index)]\n",
    "    test = data.iloc[list(X_test_tree.index)]\n",
    "    return train, test\n",
    "\n",
    "X_train_lin, X_test_lin = split(linear_data)#splits linear data\n",
    "X_train_lasso, X_test_lasso = split(lasso_data)#splits lasso data"
   ]
  },
  {
   "cell_type": "code",
   "execution_count": 9,
   "metadata": {},
   "outputs": [
    {
     "data": {
      "text/plain": [
       "True"
      ]
     },
     "execution_count": 9,
     "metadata": {},
     "output_type": "execute_result"
    }
   ],
   "source": [
    "#makes sure everything is indexed the same.\n",
    "list(X_train_tree.index)==list(X_train_lin.index)==list(X_train_lasso.index)==list(y_train.index)\n",
    "        "
   ]
  },
  {
   "cell_type": "markdown",
   "metadata": {},
   "source": [
    "# Linear Regression Model\n",
    "The first model I'll try is mulitple linear regression from sklearn's linear regression. For this model, I'm only using the 20 features most correlated to price per person. Features with high colinearity were also removed from this data. \n",
    "Linear regression requires that data be standardized "
   ]
  },
  {
   "cell_type": "code",
   "execution_count": 10,
   "metadata": {},
   "outputs": [],
   "source": [
    "scaler = MinMaxScaler()\n",
    "\n",
    "\n",
    "X_train_lin = scaler.fit_transform(X_train_lin)#fits on training set then transforms training set\n",
    "\n",
    "X_test_lin = scaler.transform(X_test_lin)#transforms test set using fit from training set. This keeps information from the test set from leaking into the training data."
   ]
  },
  {
   "cell_type": "code",
   "execution_count": 11,
   "metadata": {},
   "outputs": [
    {
     "data": {
      "text/plain": [
       "0.5354127424675243"
      ]
     },
     "execution_count": 11,
     "metadata": {},
     "output_type": "execute_result"
    }
   ],
   "source": [
    "lin = LinearRegression()\n",
    "cv = cross_val_score(lin, X_train_lin, y_train, cv = 10)\n",
    "cv.mean()"
   ]
  },
  {
   "cell_type": "markdown",
   "metadata": {},
   "source": [
    "# Lasso Regression"
   ]
  },
  {
   "cell_type": "code",
   "execution_count": 12,
   "metadata": {},
   "outputs": [
    {
     "data": {
      "text/plain": [
       "GridSearchCV(cv=10, error_score=nan,\n",
       "             estimator=Lasso(alpha=1.0, copy_X=True, fit_intercept=True,\n",
       "                             max_iter=1000, normalize=False, positive=False,\n",
       "                             precompute=False, random_state=None,\n",
       "                             selection='cyclic', tol=0.0001, warm_start=False),\n",
       "             iid='deprecated', n_jobs=None,\n",
       "             param_grid={'alpha': [0.1, 0.2, 0.3, 0.4, 0.5, 1, 2, 3, 4, 5, 6, 7,\n",
       "                                   8, 9, 10, 11, 12, 13, 14, 15, 16, 17, 18, 19,\n",
       "                                   20, 21, 22, 23, 24, 25, ...]},\n",
       "             pre_dispatch='2*n_jobs', refit=True, return_train_score=False,\n",
       "             scoring=None, verbose=0)"
      ]
     },
     "execution_count": 12,
     "metadata": {},
     "output_type": "execute_result"
    }
   ],
   "source": [
    "\n",
    "lasso = Lasso()\n",
    "\n",
    "params = {'alpha': [.1,.2,.3,.4,.5]+list(range(1,50))}\n",
    "gridcv = GridSearchCV(lasso, param_grid=params, cv = 10)\n",
    "gridcv.fit(X_train_lasso, y_train)"
   ]
  },
  {
   "cell_type": "code",
   "execution_count": 13,
   "metadata": {},
   "outputs": [
    {
     "name": "stdout",
     "output_type": "stream",
     "text": [
      "{'alpha': 0.1}\n",
      "0.3841706033357991\n"
     ]
    }
   ],
   "source": [
    "print(gridcv.best_params_)\n",
    "print(gridcv.best_score_)"
   ]
  },
  {
   "cell_type": "code",
   "execution_count": 14,
   "metadata": {},
   "outputs": [
    {
     "data": {
      "text/plain": [
       "Lasso(alpha=1.0, copy_X=True, fit_intercept=True, max_iter=1000,\n",
       "      normalize=False, positive=False, precompute=False, random_state=None,\n",
       "      selection='cyclic', tol=0.0001, warm_start=False)"
      ]
     },
     "execution_count": 14,
     "metadata": {},
     "output_type": "execute_result"
    }
   ],
   "source": [
    "lasso.fit(X_train_lasso,y_train)"
   ]
  },
  {
   "cell_type": "code",
   "execution_count": 15,
   "metadata": {},
   "outputs": [],
   "source": [
    "y_pred = lasso.predict(X_test_lasso)"
   ]
  },
  {
   "cell_type": "code",
   "execution_count": 16,
   "metadata": {},
   "outputs": [
    {
     "data": {
      "text/plain": [
       "0      1.618707\n",
       "1      1.582321\n",
       "2      1.534536\n",
       "3      1.540149\n",
       "4      1.549654\n",
       "         ...   \n",
       "662    1.600691\n",
       "663    1.564006\n",
       "664    1.539699\n",
       "665    1.536284\n",
       "666    1.541887\n",
       "Length: 667, dtype: float64"
      ]
     },
     "execution_count": 16,
     "metadata": {},
     "output_type": "execute_result"
    }
   ],
   "source": [
    "pd.Series(y_pred)"
   ]
  },
  {
   "cell_type": "code",
   "execution_count": 17,
   "metadata": {},
   "outputs": [
    {
     "data": {
      "text/html": [
       "<div>\n",
       "<style scoped>\n",
       "    .dataframe tbody tr th:only-of-type {\n",
       "        vertical-align: middle;\n",
       "    }\n",
       "\n",
       "    .dataframe tbody tr th {\n",
       "        vertical-align: top;\n",
       "    }\n",
       "\n",
       "    .dataframe thead th {\n",
       "        text-align: right;\n",
       "    }\n",
       "</style>\n",
       "<table border=\"1\" class=\"dataframe\">\n",
       "  <thead>\n",
       "    <tr style=\"text-align: right;\">\n",
       "      <th></th>\n",
       "      <th>index</th>\n",
       "      <th>price</th>\n",
       "      <th>predicted_price</th>\n",
       "      <th>difference</th>\n",
       "    </tr>\n",
       "  </thead>\n",
       "  <tbody>\n",
       "    <tr>\n",
       "      <th>0</th>\n",
       "      <td>933</td>\n",
       "      <td>5.459586</td>\n",
       "      <td>5.046563</td>\n",
       "      <td>0.413023</td>\n",
       "    </tr>\n",
       "    <tr>\n",
       "      <th>1</th>\n",
       "      <td>1078</td>\n",
       "      <td>5.771441</td>\n",
       "      <td>4.866239</td>\n",
       "      <td>0.905202</td>\n",
       "    </tr>\n",
       "    <tr>\n",
       "      <th>2</th>\n",
       "      <td>519</td>\n",
       "      <td>4.595120</td>\n",
       "      <td>4.639174</td>\n",
       "      <td>0.044054</td>\n",
       "    </tr>\n",
       "    <tr>\n",
       "      <th>3</th>\n",
       "      <td>1496</td>\n",
       "      <td>3.258097</td>\n",
       "      <td>4.665284</td>\n",
       "      <td>1.407187</td>\n",
       "    </tr>\n",
       "    <tr>\n",
       "      <th>4</th>\n",
       "      <td>1725</td>\n",
       "      <td>4.736198</td>\n",
       "      <td>4.709840</td>\n",
       "      <td>0.026359</td>\n",
       "    </tr>\n",
       "  </tbody>\n",
       "</table>\n",
       "</div>"
      ],
      "text/plain": [
       "   index     price  predicted_price  difference\n",
       "0    933  5.459586         5.046563    0.413023\n",
       "1   1078  5.771441         4.866239    0.905202\n",
       "2    519  4.595120         4.639174    0.044054\n",
       "3   1496  3.258097         4.665284    1.407187\n",
       "4   1725  4.736198         4.709840    0.026359"
      ]
     },
     "execution_count": 17,
     "metadata": {},
     "output_type": "execute_result"
    }
   ],
   "source": [
    "results=y_test.to_frame().reset_index()\n",
    "results['predicted_price']=pd.Series(y_pred)\n",
    "results['predicted_price']=np.exp(results.predicted_price)\n",
    "results['price']=np.exp(results.price)\n",
    "results['difference'] = abs(results.predicted_price-results.price)\n",
    "results.head()"
   ]
  },
  {
   "cell_type": "code",
   "execution_count": 18,
   "metadata": {},
   "outputs": [
    {
     "data": {
      "text/plain": [
       "<AxesSubplot:xlabel='price', ylabel='difference'>"
      ]
     },
     "execution_count": 18,
     "metadata": {},
     "output_type": "execute_result"
    },
    {
     "data": {
      "image/png": "[encoded data removed]",
      "text/plain": [
       "<Figure size 720x720 with 1 Axes>"
      ]
     },
     "metadata": {
      "needs_background": "light"
     },
     "output_type": "display_data"
    }
   ],
   "source": [
    "import seaborn as sns\n",
    "plt.figure(figsize=(10,10))\n",
    "sns.scatterplot(data = results[results['price']<200],x='price',y='difference')"
   ]
  },
  {
   "cell_type": "code",
   "execution_count": null,
   "metadata": {},
   "outputs": [],
   "source": []
  },
  {
   "cell_type": "markdown",
   "metadata": {},
   "source": [
    "# Random Forest"
   ]
  },
  {
   "cell_type": "code",
   "execution_count": 16,
   "metadata": {},
   "outputs": [],
   "source": [
    "X = lasso_data\n",
    "X_train, x_test = split(X)"
   ]
  },
  {
   "cell_type": "code",
   "execution_count": 17,
   "metadata": {},
   "outputs": [
    {
     "data": {
      "text/html": [
       "<div>\n",
       "<style scoped>\n",
       "    .dataframe tbody tr th:only-of-type {\n",
       "        vertical-align: middle;\n",
       "    }\n",
       "\n",
       "    .dataframe tbody tr th {\n",
       "        vertical-align: top;\n",
       "    }\n",
       "\n",
       "    .dataframe thead th {\n",
       "        text-align: right;\n",
       "    }\n",
       "</style>\n",
       "<table border=\"1\" class=\"dataframe\">\n",
       "  <thead>\n",
       "    <tr style=\"text-align: right;\">\n",
       "      <th></th>\n",
       "      <th>Median Sales Price</th>\n",
       "      <th>PercentShortTermRentals</th>\n",
       "      <th>host_response_rate</th>\n",
       "      <th>host_acceptance_rate</th>\n",
       "      <th>host_is_superhost</th>\n",
       "      <th>host_has_profile_pic</th>\n",
       "      <th>host_identity_verified</th>\n",
       "      <th>accommodates</th>\n",
       "      <th>bathrooms_text</th>\n",
       "      <th>bedrooms</th>\n",
       "      <th>...</th>\n",
       "      <th>nbhd__St. Roch</th>\n",
       "      <th>nbhd__St. Thomas Dev</th>\n",
       "      <th>nbhd__Tall Timbers - Brechtel</th>\n",
       "      <th>nbhd__Touro</th>\n",
       "      <th>nbhd__Treme - Lafitte</th>\n",
       "      <th>nbhd__Tulane - Gravier</th>\n",
       "      <th>nbhd__Uptown</th>\n",
       "      <th>nbhd__West End</th>\n",
       "      <th>nbhd__West Riverside</th>\n",
       "      <th>nbhd__Whitney</th>\n",
       "    </tr>\n",
       "  </thead>\n",
       "  <tbody>\n",
       "    <tr>\n",
       "      <th>1704</th>\n",
       "      <td>440000.0</td>\n",
       "      <td>9.034268</td>\n",
       "      <td>100.0</td>\n",
       "      <td>93.0</td>\n",
       "      <td>1</td>\n",
       "      <td>1</td>\n",
       "      <td>1</td>\n",
       "      <td>6</td>\n",
       "      <td>3.0</td>\n",
       "      <td>3.000000</td>\n",
       "      <td>...</td>\n",
       "      <td>0</td>\n",
       "      <td>0</td>\n",
       "      <td>0</td>\n",
       "      <td>0</td>\n",
       "      <td>0</td>\n",
       "      <td>0</td>\n",
       "      <td>0</td>\n",
       "      <td>0</td>\n",
       "      <td>0</td>\n",
       "      <td>0</td>\n",
       "    </tr>\n",
       "    <tr>\n",
       "      <th>105</th>\n",
       "      <td>335000.0</td>\n",
       "      <td>4.336735</td>\n",
       "      <td>100.0</td>\n",
       "      <td>100.0</td>\n",
       "      <td>1</td>\n",
       "      <td>1</td>\n",
       "      <td>1</td>\n",
       "      <td>5</td>\n",
       "      <td>1.0</td>\n",
       "      <td>3.000000</td>\n",
       "      <td>...</td>\n",
       "      <td>0</td>\n",
       "      <td>0</td>\n",
       "      <td>0</td>\n",
       "      <td>0</td>\n",
       "      <td>0</td>\n",
       "      <td>0</td>\n",
       "      <td>0</td>\n",
       "      <td>0</td>\n",
       "      <td>0</td>\n",
       "      <td>0</td>\n",
       "    </tr>\n",
       "    <tr>\n",
       "      <th>1562</th>\n",
       "      <td>400000.0</td>\n",
       "      <td>2.957284</td>\n",
       "      <td>100.0</td>\n",
       "      <td>86.0</td>\n",
       "      <td>0</td>\n",
       "      <td>1</td>\n",
       "      <td>1</td>\n",
       "      <td>2</td>\n",
       "      <td>1.0</td>\n",
       "      <td>1.000000</td>\n",
       "      <td>...</td>\n",
       "      <td>0</td>\n",
       "      <td>0</td>\n",
       "      <td>0</td>\n",
       "      <td>0</td>\n",
       "      <td>0</td>\n",
       "      <td>0</td>\n",
       "      <td>0</td>\n",
       "      <td>0</td>\n",
       "      <td>0</td>\n",
       "      <td>0</td>\n",
       "    </tr>\n",
       "    <tr>\n",
       "      <th>1298</th>\n",
       "      <td>34900.0</td>\n",
       "      <td>0.000000</td>\n",
       "      <td>100.0</td>\n",
       "      <td>100.0</td>\n",
       "      <td>0</td>\n",
       "      <td>1</td>\n",
       "      <td>0</td>\n",
       "      <td>6</td>\n",
       "      <td>2.0</td>\n",
       "      <td>3.000000</td>\n",
       "      <td>...</td>\n",
       "      <td>1</td>\n",
       "      <td>0</td>\n",
       "      <td>0</td>\n",
       "      <td>0</td>\n",
       "      <td>0</td>\n",
       "      <td>0</td>\n",
       "      <td>0</td>\n",
       "      <td>0</td>\n",
       "      <td>0</td>\n",
       "      <td>0</td>\n",
       "    </tr>\n",
       "    <tr>\n",
       "      <th>794</th>\n",
       "      <td>153000.0</td>\n",
       "      <td>3.664921</td>\n",
       "      <td>100.0</td>\n",
       "      <td>74.0</td>\n",
       "      <td>1</td>\n",
       "      <td>1</td>\n",
       "      <td>1</td>\n",
       "      <td>8</td>\n",
       "      <td>5.0</td>\n",
       "      <td>4.000000</td>\n",
       "      <td>...</td>\n",
       "      <td>0</td>\n",
       "      <td>0</td>\n",
       "      <td>0</td>\n",
       "      <td>0</td>\n",
       "      <td>1</td>\n",
       "      <td>0</td>\n",
       "      <td>0</td>\n",
       "      <td>0</td>\n",
       "      <td>0</td>\n",
       "      <td>0</td>\n",
       "    </tr>\n",
       "    <tr>\n",
       "      <th>...</th>\n",
       "      <td>...</td>\n",
       "      <td>...</td>\n",
       "      <td>...</td>\n",
       "      <td>...</td>\n",
       "      <td>...</td>\n",
       "      <td>...</td>\n",
       "      <td>...</td>\n",
       "      <td>...</td>\n",
       "      <td>...</td>\n",
       "      <td>...</td>\n",
       "      <td>...</td>\n",
       "      <td>...</td>\n",
       "      <td>...</td>\n",
       "      <td>...</td>\n",
       "      <td>...</td>\n",
       "      <td>...</td>\n",
       "      <td>...</td>\n",
       "      <td>...</td>\n",
       "      <td>...</td>\n",
       "      <td>...</td>\n",
       "      <td>...</td>\n",
       "    </tr>\n",
       "    <tr>\n",
       "      <th>1866</th>\n",
       "      <td>484100.0</td>\n",
       "      <td>4.038005</td>\n",
       "      <td>100.0</td>\n",
       "      <td>99.0</td>\n",
       "      <td>0</td>\n",
       "      <td>1</td>\n",
       "      <td>0</td>\n",
       "      <td>2</td>\n",
       "      <td>1.0</td>\n",
       "      <td>1.015968</td>\n",
       "      <td>...</td>\n",
       "      <td>0</td>\n",
       "      <td>0</td>\n",
       "      <td>0</td>\n",
       "      <td>0</td>\n",
       "      <td>0</td>\n",
       "      <td>0</td>\n",
       "      <td>0</td>\n",
       "      <td>0</td>\n",
       "      <td>0</td>\n",
       "      <td>0</td>\n",
       "    </tr>\n",
       "    <tr>\n",
       "      <th>76</th>\n",
       "      <td>113000.0</td>\n",
       "      <td>2.988048</td>\n",
       "      <td>100.0</td>\n",
       "      <td>97.0</td>\n",
       "      <td>1</td>\n",
       "      <td>1</td>\n",
       "      <td>1</td>\n",
       "      <td>6</td>\n",
       "      <td>2.5</td>\n",
       "      <td>3.000000</td>\n",
       "      <td>...</td>\n",
       "      <td>0</td>\n",
       "      <td>0</td>\n",
       "      <td>0</td>\n",
       "      <td>0</td>\n",
       "      <td>0</td>\n",
       "      <td>1</td>\n",
       "      <td>0</td>\n",
       "      <td>0</td>\n",
       "      <td>0</td>\n",
       "      <td>0</td>\n",
       "    </tr>\n",
       "    <tr>\n",
       "      <th>1458</th>\n",
       "      <td>155000.0</td>\n",
       "      <td>3.030303</td>\n",
       "      <td>100.0</td>\n",
       "      <td>99.0</td>\n",
       "      <td>1</td>\n",
       "      <td>1</td>\n",
       "      <td>1</td>\n",
       "      <td>2</td>\n",
       "      <td>1.0</td>\n",
       "      <td>1.015968</td>\n",
       "      <td>...</td>\n",
       "      <td>0</td>\n",
       "      <td>0</td>\n",
       "      <td>0</td>\n",
       "      <td>0</td>\n",
       "      <td>0</td>\n",
       "      <td>0</td>\n",
       "      <td>0</td>\n",
       "      <td>0</td>\n",
       "      <td>0</td>\n",
       "      <td>0</td>\n",
       "    </tr>\n",
       "    <tr>\n",
       "      <th>1197</th>\n",
       "      <td>392300.0</td>\n",
       "      <td>0.872600</td>\n",
       "      <td>100.0</td>\n",
       "      <td>99.0</td>\n",
       "      <td>1</td>\n",
       "      <td>1</td>\n",
       "      <td>1</td>\n",
       "      <td>16</td>\n",
       "      <td>4.0</td>\n",
       "      <td>4.000000</td>\n",
       "      <td>...</td>\n",
       "      <td>0</td>\n",
       "      <td>0</td>\n",
       "      <td>0</td>\n",
       "      <td>0</td>\n",
       "      <td>0</td>\n",
       "      <td>0</td>\n",
       "      <td>0</td>\n",
       "      <td>0</td>\n",
       "      <td>0</td>\n",
       "      <td>0</td>\n",
       "    </tr>\n",
       "    <tr>\n",
       "      <th>2170</th>\n",
       "      <td>239000.0</td>\n",
       "      <td>3.030303</td>\n",
       "      <td>67.0</td>\n",
       "      <td>100.0</td>\n",
       "      <td>1</td>\n",
       "      <td>1</td>\n",
       "      <td>1</td>\n",
       "      <td>6</td>\n",
       "      <td>1.0</td>\n",
       "      <td>3.000000</td>\n",
       "      <td>...</td>\n",
       "      <td>0</td>\n",
       "      <td>0</td>\n",
       "      <td>0</td>\n",
       "      <td>0</td>\n",
       "      <td>0</td>\n",
       "      <td>0</td>\n",
       "      <td>0</td>\n",
       "      <td>0</td>\n",
       "      <td>0</td>\n",
       "      <td>0</td>\n",
       "    </tr>\n",
       "  </tbody>\n",
       "</table>\n",
       "<p>1555 rows × 189 columns</p>\n",
       "</div>"
      ],
      "text/plain": [
       "      Median Sales Price  PercentShortTermRentals  host_response_rate  \\\n",
       "1704            440000.0                 9.034268               100.0   \n",
       "105             335000.0                 4.336735               100.0   \n",
       "1562            400000.0                 2.957284               100.0   \n",
       "1298             34900.0                 0.000000               100.0   \n",
       "794             153000.0                 3.664921               100.0   \n",
       "...                  ...                      ...                 ...   \n",
       "1866            484100.0                 4.038005               100.0   \n",
       "76              113000.0                 2.988048               100.0   \n",
       "1458            155000.0                 3.030303               100.0   \n",
       "1197            392300.0                 0.872600               100.0   \n",
       "2170            239000.0                 3.030303                67.0   \n",
       "\n",
       "      host_acceptance_rate  host_is_superhost  host_has_profile_pic  \\\n",
       "1704                  93.0                  1                     1   \n",
       "105                  100.0                  1                     1   \n",
       "1562                  86.0                  0                     1   \n",
       "1298                 100.0                  0                     1   \n",
       "794                   74.0                  1                     1   \n",
       "...                    ...                ...                   ...   \n",
       "1866                  99.0                  0                     1   \n",
       "76                    97.0                  1                     1   \n",
       "1458                  99.0                  1                     1   \n",
       "1197                  99.0                  1                     1   \n",
       "2170                 100.0                  1                     1   \n",
       "\n",
       "      host_identity_verified  accommodates  bathrooms_text  bedrooms  ...  \\\n",
       "1704                       1             6             3.0  3.000000  ...   \n",
       "105                        1             5             1.0  3.000000  ...   \n",
       "1562                       1             2             1.0  1.000000  ...   \n",
       "1298                       0             6             2.0  3.000000  ...   \n",
       "794                        1             8             5.0  4.000000  ...   \n",
       "...                      ...           ...             ...       ...  ...   \n",
       "1866                       0             2             1.0  1.015968  ...   \n",
       "76                         1             6             2.5  3.000000  ...   \n",
       "1458                       1             2             1.0  1.015968  ...   \n",
       "1197                       1            16             4.0  4.000000  ...   \n",
       "2170                       1             6             1.0  3.000000  ...   \n",
       "\n",
       "      nbhd__St. Roch  nbhd__St. Thomas Dev  nbhd__Tall Timbers - Brechtel  \\\n",
       "1704               0                     0                              0   \n",
       "105                0                     0                              0   \n",
       "1562               0                     0                              0   \n",
       "1298               1                     0                              0   \n",
       "794                0                     0                              0   \n",
       "...              ...                   ...                            ...   \n",
       "1866               0                     0                              0   \n",
       "76                 0                     0                              0   \n",
       "1458               0                     0                              0   \n",
       "1197               0                     0                              0   \n",
       "2170               0                     0                              0   \n",
       "\n",
       "      nbhd__Touro  nbhd__Treme - Lafitte  nbhd__Tulane - Gravier  \\\n",
       "1704            0                      0                       0   \n",
       "105             0                      0                       0   \n",
       "1562            0                      0                       0   \n",
       "1298            0                      0                       0   \n",
       "794             0                      1                       0   \n",
       "...           ...                    ...                     ...   \n",
       "1866            0                      0                       0   \n",
       "76              0                      0                       1   \n",
       "1458            0                      0                       0   \n",
       "1197            0                      0                       0   \n",
       "2170            0                      0                       0   \n",
       "\n",
       "      nbhd__Uptown  nbhd__West End  nbhd__West Riverside  nbhd__Whitney  \n",
       "1704             0               0                     0              0  \n",
       "105              0               0                     0              0  \n",
       "1562             0               0                     0              0  \n",
       "1298             0               0                     0              0  \n",
       "794              0               0                     0              0  \n",
       "...            ...             ...                   ...            ...  \n",
       "1866             0               0                     0              0  \n",
       "76               0               0                     0              0  \n",
       "1458             0               0                     0              0  \n",
       "1197             0               0                     0              0  \n",
       "2170             0               0                     0              0  \n",
       "\n",
       "[1555 rows x 189 columns]"
      ]
     },
     "execution_count": 17,
     "metadata": {},
     "output_type": "execute_result"
    }
   ],
   "source": [
    "X_train"
   ]
  },
  {
   "cell_type": "code",
   "execution_count": 18,
   "metadata": {},
   "outputs": [
    {
     "data": {
      "text/plain": [
       "GridSearchCV(cv=5, estimator=RandomForestRegressor(),\n",
       "             param_grid={'n_estimators': [1000]})"
      ]
     },
     "execution_count": 18,
     "metadata": {},
     "output_type": "execute_result"
    }
   ],
   "source": [
    "rf = RandomForestRegressor()\n",
    "params = {'n_estimators':[1000]}\n",
    "gridcv = GridSearchCV(rf, param_grid=params, cv = 5)\n",
    "gridcv.fit(X_train.drop(columns = 'reviews_per_month'), y_train)"
   ]
  },
  {
   "cell_type": "code",
   "execution_count": 19,
   "metadata": {},
   "outputs": [
    {
     "data": {
      "text/plain": [
       "0.6427760449179548"
      ]
     },
     "execution_count": 19,
     "metadata": {},
     "output_type": "execute_result"
    }
   ],
   "source": [
    "gridcv.best_score_"
   ]
  },
  {
   "cell_type": "code",
   "execution_count": 20,
   "metadata": {},
   "outputs": [
    {
     "data": {
      "text/plain": [
       "RandomForestRegressor(n_estimators=1000)"
      ]
     },
     "execution_count": 20,
     "metadata": {},
     "output_type": "execute_result"
    }
   ],
   "source": [
    "rf=RandomForestRegressor(n_estimators=1000)\n",
    "rf.fit(X_train, y_train)"
   ]
  },
  {
   "cell_type": "code",
   "execution_count": 21,
   "metadata": {},
   "outputs": [],
   "source": [
    "y_pred = rf.predict(x_test)"
   ]
  },
  {
   "cell_type": "code",
   "execution_count": 22,
   "metadata": {},
   "outputs": [
    {
     "ename": "SyntaxError",
     "evalue": "invalid syntax (<ipython-input-22-8e184c3b1442>, line 1)",
     "output_type": "error",
     "traceback": [
      "\u001b[0;36m  File \u001b[0;32m\"<ipython-input-22-8e184c3b1442>\"\u001b[0;36m, line \u001b[0;32m1\u001b[0m\n\u001b[0;31m    y_pred,y_test)\u001b[0m\n\u001b[0m                 ^\u001b[0m\n\u001b[0;31mSyntaxError\u001b[0m\u001b[0;31m:\u001b[0m invalid syntax\n"
     ]
    }
   ],
   "source": [
    "y_pred,y_test)"
   ]
  },
  {
   "cell_type": "code",
   "execution_count": null,
   "metadata": {},
   "outputs": [],
   "source": [
    "np.mean(abs(y_pred-y_test))"
   ]
  },
  {
   "cell_type": "code",
   "execution_count": null,
   "metadata": {},
   "outputs": [],
   "source": [
    "y_train,y_test = split(lasso_data.reviews_per_month)"
   ]
  },
  {
   "cell_type": "code",
   "execution_count": null,
   "metadata": {},
   "outputs": [],
   "source": [
    "\n",
    "rf=RandomForestRegressor(n_estimators = 1000).fit(X_train.drop(columns = ['reviews_per_month','number_of_reviews']), y_train)"
   ]
  },
  {
   "cell_type": "code",
   "execution_count": null,
   "metadata": {},
   "outputs": [],
   "source": [
    "importances = dict(zip(X_train.drop(columns = ['number_of_reviews','reviews_per_month']) ,rf.feature_importances_))\n",
    "importances =pd.DataFrame.from_dict(importances, orient ='index')\n",
    "importances= importances.sort_values(by=0, ascending = False)\n",
    "importances.head(20)"
   ]
  },
  {
   "cell_type": "code",
   "execution_count": null,
   "metadata": {},
   "outputs": [],
   "source": [
    "rf.score(x_test.drop(columns = ['number_of_reviews', 'reviews_per_month']), y_test)"
   ]
  },
  {
   "cell_type": "code",
   "execution_count": null,
   "metadata": {},
   "outputs": [],
   "source": [
    "x = x_test.iloc[12]\n",
    "x = x.to_frame()\n",
    "x  = x.transpose()\n",
    "x = x.drop(columns = ['reviews_per_month','number_of_reviews'])\n",
    "predictions = {}\n",
    "for i in range (1,900):\n",
    "    x.price = i\n",
    "    a = rf.predict(x)\n",
    "    predictions[i]=a "
   ]
  },
  {
   "cell_type": "code",
   "execution_count": null,
   "metadata": {},
   "outputs": [],
   "source": [
    "x = pd.DataFrame.from_dict(predictions)"
   ]
  },
  {
   "cell_type": "code",
   "execution_count": null,
   "metadata": {},
   "outputs": [],
   "source": [
    "x =x.transpose().reset_index()"
   ]
  },
  {
   "cell_type": "code",
   "execution_count": null,
   "metadata": {},
   "outputs": [],
   "source": [
    "x[0]=np.exp(x[0])"
   ]
  },
  {
   "cell_type": "code",
   "execution_count": null,
   "metadata": {},
   "outputs": [],
   "source": [
    "x"
   ]
  },
  {
   "cell_type": "code",
   "execution_count": null,
   "metadata": {},
   "outputs": [],
   "source": [
    "import seaborn as sns\n",
    "sns.scatterplot(data = x, x = 'index', y = x[0])\n",
    "plt.axvline(max(x[0]))"
   ]
  },
  {
   "cell_type": "code",
   "execution_count": null,
   "metadata": {},
   "outputs": [],
   "source": []
  },
  {
   "cell_type": "code",
   "execution_count": null,
   "metadata": {},
   "outputs": [],
   "source": [
    "max(targets.price)"
   ]
  },
  {
   "cell_type": "code",
   "execution_count": null,
   "metadata": {},
   "outputs": [],
   "source": [
    "intervals = pd.interval_range(start=0, freq = 50, end = 1000)\n",
    "targets['price_range'] = pd.cut(targets.price, bins = intervals)"
   ]
  },
  {
   "cell_type": "code",
   "execution_count": null,
   "metadata": {},
   "outputs": [],
   "source": [
    "targets.price_range=targets.price_range.astype(str)"
   ]
  },
  {
   "cell_type": "code",
   "execution_count": null,
   "metadata": {},
   "outputs": [],
   "source": [
    "targets.price_range = targets['price_range'].str.replace('[','(')"
   ]
  },
  {
   "cell_type": "code",
   "execution_count": null,
   "metadata": {},
   "outputs": [],
   "source": [
    "y_train, y_test = split(targets.price_range)"
   ]
  },
  {
   "cell_type": "code",
   "execution_count": null,
   "metadata": {},
   "outputs": [],
   "source": [
    "type(y_train[0])"
   ]
  },
  {
   "cell_type": "code",
   "execution_count": null,
   "metadata": {},
   "outputs": [],
   "source": [
    "from sklearn.ensemble import RandomForestClassifier\n",
    "rfc = RandomForestClassifier(n_estimators = 1000)\n",
    "rfc.fit(X_train_lasso, y_train)"
   ]
  },
  {
   "cell_type": "code",
   "execution_count": null,
   "metadata": {},
   "outputs": [],
   "source": [
    "rfc.score(X_train_lasso, y_train)"
   ]
  },
  {
   "cell_type": "code",
   "execution_count": null,
   "metadata": {},
   "outputs": [],
   "source": [
    "rfc.score(X_test_lasso, y_test)"
   ]
  },
  {
   "cell_type": "code",
   "execution_count": null,
   "metadata": {},
   "outputs": [],
   "source": [
    "y_pred = rfc.predict(X_test_lasso)"
   ]
  },
  {
   "cell_type": "code",
   "execution_count": null,
   "metadata": {},
   "outputs": [],
   "source": []
  }
 ],
 "metadata": {
  "kernelspec": {
   "display_name": "Python 3",
   "language": "python",
   "name": "python3"
  },
  "language_info": {
   "codemirror_mode": {
    "name": "ipython",
    "version": 3
   },
   "file_extension": ".py",
   "mimetype": "text/x-python",
   "name": "python",
   "nbconvert_exporter": "python",
   "pygments_lexer": "ipython3",
   "version": "3.7.3"
  }
 },
 "nbformat": 4,
 "nbformat_minor": 2
}
