{
 "cells": [
  {
   "cell_type": "markdown",
   "metadata": {},
   "source": [
    "a lot of this code came from:\n",
    "\n",
    "https://towardsdatascience.com/applying-machine-learning-to-classify-an-unsupervised-text-document-e7bb6265f52"
   ]
  },
  {
   "cell_type": "code",
   "execution_count": 1,
   "metadata": {},
   "outputs": [],
   "source": [
    "import pandas as pd\n",
    "import numpy as np\n",
    "from sklearn.feature_extraction.text import TfidfVectorizer\n",
    "from sklearn.cluster import KMeans\n",
    "import matplotlib.pyplot as plt\n",
    "import seaborn as sns\n",
    "from scipy.sparse import hstack"
   ]
  },
  {
   "cell_type": "code",
   "execution_count": 2,
   "metadata": {},
   "outputs": [],
   "source": [
    "airbnb = pd.read_csv('../data/preprocessing/airbnb.csv')"
   ]
  },
  {
   "cell_type": "code",
   "execution_count": 3,
   "metadata": {},
   "outputs": [
    {
     "data": {
      "text/plain": [
       "Index(['the_geom', 'OBJECTID', 'geoid', 'Median Sales Price',\n",
       "       'PercentShortTermRentals', 'geometry', 'index_right', 'id', 'name',\n",
       "       'description', 'neighborhood_overview', 'host_name', 'host_location',\n",
       "       'host_about', 'host_response_time', 'host_response_rate',\n",
       "       'host_acceptance_rate', 'host_is_superhost', 'host_has_profile_pic',\n",
       "       'host_identity_verified', 'neighbourhood_cleansed', 'latitude',\n",
       "       'longitude', 'property_type', 'accommodates', 'bathrooms_text',\n",
       "       'bedrooms', 'beds', 'amenities', 'price', 'minimum_nights',\n",
       "       'maximum_nights', 'availability_30', 'availability_60',\n",
       "       'availability_90', 'availability_365', 'number_of_reviews',\n",
       "       'number_of_reviews_l30d', 'review_scores_rating',\n",
       "       'review_scores_accuracy', 'review_scores_cleanliness',\n",
       "       'review_scores_checkin', 'review_scores_communication',\n",
       "       'review_scores_location', 'review_scores_value', 'instant_bookable',\n",
       "       'calculated_host_listings_count', 'reviews_per_month', 'days_active',\n",
       "       'lowest_estimate/month', 'middle_estimate/month', 'Restaurant_Count',\n",
       "       'neighborhood_restaurants', 'price_person'],\n",
       "      dtype='object')"
      ]
     },
     "execution_count": 3,
     "metadata": {},
     "output_type": "execute_result"
    }
   ],
   "source": [
    "airbnb.columns"
   ]
  },
  {
   "cell_type": "code",
   "execution_count": 4,
   "metadata": {},
   "outputs": [
    {
     "name": "stdout",
     "output_type": "stream",
     "text": [
      "<class 'pandas.core.frame.DataFrame'>\n",
      "RangeIndex: 2222 entries, 0 to 2221\n",
      "Data columns (total 54 columns):\n",
      " #   Column                          Non-Null Count  Dtype  \n",
      "---  ------                          --------------  -----  \n",
      " 0   the_geom                        2222 non-null   object \n",
      " 1   OBJECTID                        2222 non-null   int64  \n",
      " 2   geoid                           2222 non-null   int64  \n",
      " 3   Median Sales Price              2222 non-null   float64\n",
      " 4   PercentShortTermRentals         2222 non-null   float64\n",
      " 5   geometry                        2222 non-null   object \n",
      " 6   index_right                     2222 non-null   int64  \n",
      " 7   id                              2222 non-null   int64  \n",
      " 8   name                            2222 non-null   object \n",
      " 9   description                     2222 non-null   object \n",
      " 10  neighborhood_overview           2222 non-null   object \n",
      " 11  host_name                       2222 non-null   object \n",
      " 12  host_location                   2222 non-null   object \n",
      " 13  host_about                      2222 non-null   object \n",
      " 14  host_response_time              2222 non-null   object \n",
      " 15  host_response_rate              2222 non-null   float64\n",
      " 16  host_acceptance_rate            2222 non-null   float64\n",
      " 17  host_is_superhost               2222 non-null   bool   \n",
      " 18  host_has_profile_pic            2222 non-null   bool   \n",
      " 19  host_identity_verified          2222 non-null   bool   \n",
      " 20  neighbourhood_cleansed          2222 non-null   object \n",
      " 21  latitude                        2222 non-null   float64\n",
      " 22  longitude                       2222 non-null   float64\n",
      " 23  property_type                   2222 non-null   object \n",
      " 24  accommodates                    2222 non-null   int64  \n",
      " 25  bathrooms_text                  2222 non-null   float64\n",
      " 26  bedrooms                        2222 non-null   float64\n",
      " 27  beds                            2222 non-null   float64\n",
      " 28  amenities                       2222 non-null   object \n",
      " 29  price                           2222 non-null   float64\n",
      " 30  minimum_nights                  2222 non-null   int64  \n",
      " 31  maximum_nights                  2222 non-null   int64  \n",
      " 32  availability_30                 2222 non-null   int64  \n",
      " 33  availability_60                 2222 non-null   int64  \n",
      " 34  availability_90                 2222 non-null   int64  \n",
      " 35  availability_365                2222 non-null   int64  \n",
      " 36  number_of_reviews               2222 non-null   int64  \n",
      " 37  number_of_reviews_l30d          2222 non-null   int64  \n",
      " 38  review_scores_rating            2222 non-null   float64\n",
      " 39  review_scores_accuracy          2222 non-null   float64\n",
      " 40  review_scores_cleanliness       2222 non-null   float64\n",
      " 41  review_scores_checkin           2222 non-null   float64\n",
      " 42  review_scores_communication     2222 non-null   float64\n",
      " 43  review_scores_location          2222 non-null   float64\n",
      " 44  review_scores_value             2222 non-null   float64\n",
      " 45  instant_bookable                2222 non-null   bool   \n",
      " 46  calculated_host_listings_count  2222 non-null   int64  \n",
      " 47  reviews_per_month               2222 non-null   float64\n",
      " 48  days_active                     2222 non-null   float64\n",
      " 49  lowest_estimate/month           2222 non-null   float64\n",
      " 50  middle_estimate/month           2222 non-null   float64\n",
      " 51  Restaurant_Count                2222 non-null   float64\n",
      " 52  neighborhood_restaurants        2222 non-null   float64\n",
      " 53  price_person                    2222 non-null   float64\n",
      "dtypes: bool(4), float64(24), int64(14), object(12)\n",
      "memory usage: 876.8+ KB\n"
     ]
    }
   ],
   "source": [
    "airbnb.info()"
   ]
  },
  {
   "cell_type": "code",
   "execution_count": 5,
   "metadata": {},
   "outputs": [],
   "source": [
    "vectorizer_description = TfidfVectorizer(stop_words = \"english\")# ignores words like 'a'\n",
    "vectorizer_neighborhood= TfidfVectorizer(stop_words = 'english')\n",
    "kmeans = KMeans(n_clusters = 10, max_iter = 100)"
   ]
  },
  {
   "cell_type": "code",
   "execution_count": 6,
   "metadata": {},
   "outputs": [],
   "source": [
    "description = vectorizer_description.fit_transform(airbnb.description) #transforms descriptions\n",
    "neighbor_ovrvw = vectorizer_neighborhood.fit_transform(airbnb.neighborhood_overview) #transforms neighborhood description"
   ]
  },
  {
   "cell_type": "code",
   "execution_count": 7,
   "metadata": {},
   "outputs": [
    {
     "data": {
      "image/png": "[encoded data removed]",
      "text/plain": [
       "<Figure size 432x288 with 1 Axes>"
      ]
     },
     "metadata": {
      "needs_background": "light"
     },
     "output_type": "display_data"
    },
    {
     "data": {
      "image/png": "[encoded data removed]",
      "text/plain": [
       "<Figure size 432x288 with 1 Axes>"
      ]
     },
     "metadata": {
      "needs_background": "light"
     },
     "output_type": "display_data"
    }
   ],
   "source": [
    "for matrix in [description, neighbor_ovrvw]:\n",
    "    sse = {}\n",
    "    for k in np.arange(2,11):\n",
    "        kmeans = KMeans(n_clusters = k, random_state = 0, init='k-means++')\n",
    "        kmeans.fit(matrix)\n",
    "        sse[k] = kmeans.inertia_\n",
    "    plt.xticks=(list(np.arange(2,11)))\n",
    "    sns.lineplot(data = sse)\n",
    "    sns.scatterplot(data = sse)\n",
    "    plt.show()"
   ]
  },
  {
   "cell_type": "code",
   "execution_count": 8,
   "metadata": {},
   "outputs": [],
   "source": [
    "description_mod = KMeans(n_clusters = 6, random_state = 0, init='k-means++')\n",
    "neighborhood_mod = KMeans(n_clusters = 4, random_state = 0, init='k-means++')"
   ]
  },
  {
   "cell_type": "code",
   "execution_count": 9,
   "metadata": {},
   "outputs": [
    {
     "data": {
      "text/plain": [
       "KMeans(n_clusters=4, random_state=0)"
      ]
     },
     "execution_count": 9,
     "metadata": {},
     "output_type": "execute_result"
    }
   ],
   "source": [
    "description_mod.fit(description)\n",
    "neighborhood_mod.fit(neighbor_ovrvw)"
   ]
  },
  {
   "cell_type": "code",
   "execution_count": 10,
   "metadata": {},
   "outputs": [],
   "source": [
    "features_description = vectorizer_description.get_feature_names()\n",
    "features_neighborhood = vectorizer_neighborhood.get_feature_names()"
   ]
  },
  {
   "cell_type": "code",
   "execution_count": 11,
   "metadata": {},
   "outputs": [
    {
     "data": {
      "text/plain": [
       "9441"
      ]
     },
     "execution_count": 11,
     "metadata": {},
     "output_type": "execute_result"
    }
   ],
   "source": [
    "len(features_description)"
   ]
  },
  {
   "cell_type": "code",
   "execution_count": 12,
   "metadata": {},
   "outputs": [],
   "source": [
    "clusters_description = description_mod.cluster_centers_.argsort()[:,::-1]\n",
    "clusters_neighborhood = neighborhood_mod.cluster_centers_.argsort()[:,::-1]"
   ]
  },
  {
   "cell_type": "code",
   "execution_count": 13,
   "metadata": {},
   "outputs": [
    {
     "name": "stdout",
     "output_type": "stream",
     "text": [
      "Cluster 0:\n",
      " br\n",
      " new\n",
      " home\n",
      " orleans\n",
      " space\n",
      " french\n",
      " house\n",
      " street\n",
      " quarter\n",
      " bedroom\n",
      "Cluster 1:\n",
      " br\n",
      " sextant\n",
      " property\n",
      " groups\n",
      " stay\n",
      " cleaned\n",
      " home\n",
      " professionally\n",
      " outlined\n",
      " properly\n",
      "Cluster 2:\n",
      " virtual\n",
      " br\n",
      " 24\n",
      " spaces\n",
      " check\n",
      " leaders\n",
      " cleveland\n",
      " signage\n",
      " experts\n",
      " seals\n",
      "Cluster 3:\n",
      " br\n",
      " access\n",
      " guest\n",
      " home\n",
      " room\n",
      " house\n",
      " space\n",
      " new\n",
      " private\n",
      " bedroom\n",
      "Cluster 4:\n",
      " br\n",
      " best\n",
      " cleaning\n",
      " staff\n",
      " desinfection\n",
      " cleanings\n",
      " specialized\n",
      " comfortable\n",
      " highly\n",
      " deep\n",
      "Cluster 5:\n",
      " hosteeva\n",
      " br\n",
      " standard\n",
      " check\n",
      " hotel\n",
      " smart\n",
      " visiting\n",
      " cleaning\n",
      " high\n",
      " home\n"
     ]
    }
   ],
   "source": [
    "for i in range(6):\n",
    "    print('Cluster %d:' % i),\n",
    "    for ind in clusters_description[i, :10]:\n",
    "        print(' %s' % features_description[ind])"
   ]
  },
  {
   "cell_type": "code",
   "execution_count": 14,
   "metadata": {},
   "outputs": [],
   "source": [
    "cluster = []\n",
    "for row in description:\n",
    "    cluster.append(description_mod.predict(description))"
   ]
  },
  {
   "cell_type": "code",
   "execution_count": 15,
   "metadata": {},
   "outputs": [],
   "source": [
    "airbnb['description_group'] = description_mod.predict(description)"
   ]
  },
  {
   "cell_type": "code",
   "execution_count": 16,
   "metadata": {},
   "outputs": [
    {
     "data": {
      "text/plain": [
       "0       1\n",
       "1       2\n",
       "2       0\n",
       "3       2\n",
       "4       3\n",
       "       ..\n",
       "2217    5\n",
       "2218    5\n",
       "2219    5\n",
       "2220    0\n",
       "2221    0\n",
       "Name: description_group, Length: 2222, dtype: int32"
      ]
     },
     "execution_count": 16,
     "metadata": {},
     "output_type": "execute_result"
    }
   ],
   "source": [
    "airbnb.description_group"
   ]
  },
  {
   "cell_type": "code",
   "execution_count": 17,
   "metadata": {},
   "outputs": [
    {
     "name": "stdout",
     "output_type": "stream",
     "text": [
      "<class 'pandas.core.frame.DataFrame'>\n",
      "RangeIndex: 2222 entries, 0 to 2221\n",
      "Data columns (total 55 columns):\n",
      " #   Column                          Non-Null Count  Dtype  \n",
      "---  ------                          --------------  -----  \n",
      " 0   the_geom                        2222 non-null   object \n",
      " 1   OBJECTID                        2222 non-null   int64  \n",
      " 2   geoid                           2222 non-null   int64  \n",
      " 3   Median Sales Price              2222 non-null   float64\n",
      " 4   PercentShortTermRentals         2222 non-null   float64\n",
      " 5   geometry                        2222 non-null   object \n",
      " 6   index_right                     2222 non-null   int64  \n",
      " 7   id                              2222 non-null   int64  \n",
      " 8   name                            2222 non-null   object \n",
      " 9   description                     2222 non-null   object \n",
      " 10  neighborhood_overview           2222 non-null   object \n",
      " 11  host_name                       2222 non-null   object \n",
      " 12  host_location                   2222 non-null   object \n",
      " 13  host_about                      2222 non-null   object \n",
      " 14  host_response_time              2222 non-null   object \n",
      " 15  host_response_rate              2222 non-null   float64\n",
      " 16  host_acceptance_rate            2222 non-null   float64\n",
      " 17  host_is_superhost               2222 non-null   bool   \n",
      " 18  host_has_profile_pic            2222 non-null   bool   \n",
      " 19  host_identity_verified          2222 non-null   bool   \n",
      " 20  neighbourhood_cleansed          2222 non-null   object \n",
      " 21  latitude                        2222 non-null   float64\n",
      " 22  longitude                       2222 non-null   float64\n",
      " 23  property_type                   2222 non-null   object \n",
      " 24  accommodates                    2222 non-null   int64  \n",
      " 25  bathrooms_text                  2222 non-null   float64\n",
      " 26  bedrooms                        2222 non-null   float64\n",
      " 27  beds                            2222 non-null   float64\n",
      " 28  amenities                       2222 non-null   object \n",
      " 29  price                           2222 non-null   float64\n",
      " 30  minimum_nights                  2222 non-null   int64  \n",
      " 31  maximum_nights                  2222 non-null   int64  \n",
      " 32  availability_30                 2222 non-null   int64  \n",
      " 33  availability_60                 2222 non-null   int64  \n",
      " 34  availability_90                 2222 non-null   int64  \n",
      " 35  availability_365                2222 non-null   int64  \n",
      " 36  number_of_reviews               2222 non-null   int64  \n",
      " 37  number_of_reviews_l30d          2222 non-null   int64  \n",
      " 38  review_scores_rating            2222 non-null   float64\n",
      " 39  review_scores_accuracy          2222 non-null   float64\n",
      " 40  review_scores_cleanliness       2222 non-null   float64\n",
      " 41  review_scores_checkin           2222 non-null   float64\n",
      " 42  review_scores_communication     2222 non-null   float64\n",
      " 43  review_scores_location          2222 non-null   float64\n",
      " 44  review_scores_value             2222 non-null   float64\n",
      " 45  instant_bookable                2222 non-null   bool   \n",
      " 46  calculated_host_listings_count  2222 non-null   int64  \n",
      " 47  reviews_per_month               2222 non-null   float64\n",
      " 48  days_active                     2222 non-null   float64\n",
      " 49  lowest_estimate/month           2222 non-null   float64\n",
      " 50  middle_estimate/month           2222 non-null   float64\n",
      " 51  Restaurant_Count                2222 non-null   float64\n",
      " 52  neighborhood_restaurants        2222 non-null   float64\n",
      " 53  price_person                    2222 non-null   float64\n",
      " 54  description_group               2222 non-null   int32  \n",
      "dtypes: bool(4), float64(24), int32(1), int64(14), object(12)\n",
      "memory usage: 885.5+ KB\n"
     ]
    }
   ],
   "source": [
    "airbnb.info()"
   ]
  },
  {
   "cell_type": "code",
   "execution_count": null,
   "metadata": {},
   "outputs": [],
   "source": []
  },
  {
   "cell_type": "code",
   "execution_count": 18,
   "metadata": {},
   "outputs": [
    {
     "data": {
      "text/plain": [
       "(2222, 9441)"
      ]
     },
     "execution_count": 18,
     "metadata": {},
     "output_type": "execute_result"
    }
   ],
   "source": [
    "description.shape"
   ]
  },
  {
   "cell_type": "code",
   "execution_count": 19,
   "metadata": {},
   "outputs": [
    {
     "name": "stdout",
     "output_type": "stream",
     "text": [
      "Cluster 0:\n",
      " neighborhood\n",
      " br\n",
      " new\n",
      " city\n",
      " french\n",
      " street\n",
      " quarter\n",
      " orleans\n",
      " st\n",
      " restaurants\n",
      "Cluster 1:\n",
      " br\n",
      " smoothie\n",
      " king\n",
      " audubon\n",
      " arena\n",
      " blues\n",
      " jackson\n",
      " center\n",
      " armstrong\n",
      " condo\n",
      "Cluster 2:\n",
      " miles\n",
      " br\n",
      " airport\n",
      " parks\n",
      " include\n",
      " away\n",
      " nearby\n",
      " superdome\n",
      " mercedes\n",
      " international\n",
      "Cluster 3:\n",
      " business\n",
      " district\n",
      " central\n",
      " polished\n",
      " dynamic\n",
      " indulge\n",
      " grab\n",
      " architectural\n",
      " colorful\n",
      " south\n"
     ]
    }
   ],
   "source": [
    "for i in range(4):\n",
    "    print('Cluster %d:' % i),\n",
    "    for ind in clusters_neighborhood[i, :10]:\n",
    "        print(' %s' % features_neighborhood[ind])"
   ]
  },
  {
   "cell_type": "code",
   "execution_count": 20,
   "metadata": {},
   "outputs": [],
   "source": [
    "airbnb['neighborhood_description'] = neighborhood_mod.predict(neighbor_ovrvw) "
   ]
  },
  {
   "cell_type": "code",
   "execution_count": 21,
   "metadata": {},
   "outputs": [
    {
     "data": {
      "image/png": "[encoded data removed]",
      "text/plain": [
       "<Figure size 432x288 with 1 Axes>"
      ]
     },
     "metadata": {
      "needs_background": "light"
     },
     "output_type": "display_data"
    },
    {
     "data": {
      "image/png": "[encoded data removed]",
      "text/plain": [
       "<Figure size 432x288 with 1 Axes>"
      ]
     },
     "metadata": {
      "needs_background": "light"
     },
     "output_type": "display_data"
    }
   ],
   "source": [
    "sns.violinplot(data = airbnb, y = 'price', x = 'neighborhood_description')\n",
    "plt.show()\n",
    "sns.violinplot(data = airbnb, y = 'price', x = 'description_group')\n",
    "plt.show()"
   ]
  },
  {
   "cell_type": "markdown",
   "metadata": {},
   "source": [
    "These plots, especially the neighborhood_descriptions, appear to show some relationship to price and the new features. At least for outliers."
   ]
  },
  {
   "cell_type": "code",
   "execution_count": 22,
   "metadata": {},
   "outputs": [
    {
     "data": {
      "text/plain": [
       "(2222, 6124)"
      ]
     },
     "execution_count": 22,
     "metadata": {},
     "output_type": "execute_result"
    }
   ],
   "source": [
    "neighbor_ovrvw.shape"
   ]
  },
  {
   "cell_type": "code",
   "execution_count": 23,
   "metadata": {},
   "outputs": [],
   "source": [
    "sparse_matrix = hstack([description, neighbor_ovrvw])"
   ]
  },
  {
   "cell_type": "code",
   "execution_count": 24,
   "metadata": {},
   "outputs": [],
   "source": [
    "from sklearn.linear_model import LinearRegression\n",
    "from sklearn.model_selection import train_test_split\n",
    "from sklearn.metrics import r2_score\n",
    "from sklearn.ensemble import RandomForestRegressor"
   ]
  },
  {
   "cell_type": "code",
   "execution_count": 25,
   "metadata": {},
   "outputs": [],
   "source": [
    "rf = RandomForestRegressor()"
   ]
  },
  {
   "cell_type": "code",
   "execution_count": 26,
   "metadata": {},
   "outputs": [],
   "source": [
    "X_train, X_test, y_train, y_test = train_test_split(sparse_matrix, airbnb.price)"
   ]
  },
  {
   "cell_type": "code",
   "execution_count": 27,
   "metadata": {},
   "outputs": [
    {
     "data": {
      "text/plain": [
       "RandomForestRegressor()"
      ]
     },
     "execution_count": 27,
     "metadata": {},
     "output_type": "execute_result"
    }
   ],
   "source": [
    "rf.fit(X_train, y_train)"
   ]
  },
  {
   "cell_type": "code",
   "execution_count": 28,
   "metadata": {},
   "outputs": [],
   "source": [
    "y_pred = rf.predict(X_test)"
   ]
  },
  {
   "cell_type": "code",
   "execution_count": 29,
   "metadata": {},
   "outputs": [
    {
     "data": {
      "text/plain": [
       "0.21801402151115568"
      ]
     },
     "execution_count": 29,
     "metadata": {},
     "output_type": "execute_result"
    }
   ],
   "source": [
    "r2_score(y_test, y_pred)"
   ]
  },
  {
   "cell_type": "code",
   "execution_count": 33,
   "metadata": {},
   "outputs": [],
   "source": [
    "airbnb = airbnb[['neighborhood_description', 'description_group']]"
   ]
  },
  {
   "cell_type": "code",
   "execution_count": 34,
   "metadata": {},
   "outputs": [
    {
     "data": {
      "text/html": [
       "<div>\n",
       "<style scoped>\n",
       "    .dataframe tbody tr th:only-of-type {\n",
       "        vertical-align: middle;\n",
       "    }\n",
       "\n",
       "    .dataframe tbody tr th {\n",
       "        vertical-align: top;\n",
       "    }\n",
       "\n",
       "    .dataframe thead th {\n",
       "        text-align: right;\n",
       "    }\n",
       "</style>\n",
       "<table border=\"1\" class=\"dataframe\">\n",
       "  <thead>\n",
       "    <tr style=\"text-align: right;\">\n",
       "      <th></th>\n",
       "      <th>neighborhood_description</th>\n",
       "      <th>description_group</th>\n",
       "    </tr>\n",
       "  </thead>\n",
       "  <tbody>\n",
       "    <tr>\n",
       "      <th>0</th>\n",
       "      <td>0</td>\n",
       "      <td>1</td>\n",
       "    </tr>\n",
       "    <tr>\n",
       "      <th>1</th>\n",
       "      <td>0</td>\n",
       "      <td>2</td>\n",
       "    </tr>\n",
       "    <tr>\n",
       "      <th>2</th>\n",
       "      <td>0</td>\n",
       "      <td>0</td>\n",
       "    </tr>\n",
       "    <tr>\n",
       "      <th>3</th>\n",
       "      <td>0</td>\n",
       "      <td>2</td>\n",
       "    </tr>\n",
       "    <tr>\n",
       "      <th>4</th>\n",
       "      <td>0</td>\n",
       "      <td>3</td>\n",
       "    </tr>\n",
       "  </tbody>\n",
       "</table>\n",
       "</div>"
      ],
      "text/plain": [
       "   neighborhood_description  description_group\n",
       "0                         0                  1\n",
       "1                         0                  2\n",
       "2                         0                  0\n",
       "3                         0                  2\n",
       "4                         0                  3"
      ]
     },
     "execution_count": 34,
     "metadata": {},
     "output_type": "execute_result"
    }
   ],
   "source": [
    "airbnb.head()"
   ]
  },
  {
   "cell_type": "code",
   "execution_count": 35,
   "metadata": {},
   "outputs": [],
   "source": [
    "airbnb.to_csv(r'../data/modeling/text_data.csv')\n"
   ]
  },
  {
   "cell_type": "code",
   "execution_count": null,
   "metadata": {},
   "outputs": [],
   "source": []
  }
 ],
 "metadata": {
  "kernelspec": {
   "display_name": "Python 3",
   "language": "python",
   "name": "python3"
  },
  "language_info": {
   "codemirror_mode": {
    "name": "ipython",
    "version": 3
   },
   "file_extension": ".py",
   "mimetype": "text/x-python",
   "name": "python",
   "nbconvert_exporter": "python",
   "pygments_lexer": "ipython3",
   "version": "3.8.5"
  }
 },
 "nbformat": 4,
 "nbformat_minor": 4
}
